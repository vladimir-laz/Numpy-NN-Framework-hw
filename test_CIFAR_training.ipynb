{
 "cells": [
  {
   "cell_type": "code",
   "execution_count": 1,
   "outputs": [],
   "source": [
    "import glob\n",
    "import pickle\n",
    "import numpy as np\n",
    "import sys\n",
    "import os\n",
    "import importlib\n",
    "from sklearn.metrics import classification_report\n",
    "\n",
    "sys.path.append(os.path.join(os.getcwd(), \"src\"))\n",
    "\n",
    "\n",
    "from dataset import dataloader\n",
    "from nn.module.sequential import Sequential\n",
    "from nn.layers.linear import Linear\n",
    "from nn.layers.batch_norm import BatchNorm\n",
    "from nn.activations.relu import ReLU\n",
    "from optimization.adam_optimizer import Adam\n",
    "from nn import loss_functions\n",
    "from training.train import train\n",
    "import visualization_utils as viz_utils\n",
    "\n",
    "importlib.reload(dataloader)\n",
    "importlib.reload(loss_functions.hinge_loss)"
   ],
   "metadata": {
    "collapsed": false
   }
  },
  {
   "cell_type": "markdown",
   "id": "4c716633-7079-4070-b649-db2a3889b703",
   "metadata": {
    "id": "TZqa3p3MxWZj"
   },
   "source": [
    "И распакуем его"
   ]
  },
  {
   "cell_type": "code",
   "execution_count": 2,
   "id": "08698a51-0a69-40f5-9fb4-e28231e73d92",
   "metadata": {
    "executionInfo": {
     "elapsed": 3504,
     "status": "ok",
     "timestamp": 1648883002641,
     "user": {
      "displayName": "Олег Дмитриевич Сомов",
      "userId": "03877505905935419968"
     },
     "user_tz": -180
    },
    "id": "jDvOHt6MysJ8"
   },
   "outputs": [],
   "source": [
    "!tar -xzf cifar-10-python.tar.gz"
   ]
  },
  {
   "cell_type": "markdown",
   "id": "a467bb87-2b5e-4325-af68-bc041b47a035",
   "metadata": {
    "id": "E-_cRoYIy3IW"
   },
   "source": [
    "На выходе будем иметь следующие файлы"
   ]
  },
  {
   "cell_type": "code",
   "execution_count": 3,
   "id": "a80cb185-5fb6-40ec-b1e1-7c790708fc9e",
   "metadata": {
    "colab": {
     "base_uri": "https://localhost:8080/"
    },
    "executionInfo": {
     "elapsed": 25,
     "status": "ok",
     "timestamp": 1648883002642,
     "user": {
      "displayName": "Олег Дмитриевич Сомов",
      "userId": "03877505905935419968"
     },
     "user_tz": -180
    },
    "id": "GmuHdwXTybRl",
    "outputId": "809b04d1-ee9a-4328-9ad4-db35de6d4cb2"
   },
   "outputs": [
    {
     "name": "stdout",
     "output_type": "stream",
     "text": [
      "-batches.meta\n",
      "-data_batch_1\n",
      "-data_batch_2\n",
      "-data_batch_3\n",
      "-data_batch_4\n",
      "-data_batch_5\n",
      "-readme.html\n",
      "-test_batch\n"
     ]
    }
   ],
   "source": [
    "files = glob.glob(\"cifar-10-batches-py/**\")\n",
    "files = [item.split('/')[-1] for item in files]\n",
    "for file in sorted(files):\n",
    "    print(f\"-{file}\")"
   ]
  },
  {
   "cell_type": "markdown",
   "id": "ef6a96c5-a3cc-448c-96f2-084c3189e8c1",
   "metadata": {
    "id": "lau7dPSh2EtR"
   },
   "source": [
    "Из этих файлов нас интересуют data_batch_1, data_batch_2, ..., data_batch_5 -- это файлы с тренировочными данными, и файл test_batch -- это файл с тестовыми данными, на которых мы будем измерять свои метрики.\n",
    "\n",
    "Посмотрим ближе на структуру файлов"
   ]
  },
  {
   "cell_type": "code",
   "execution_count": 4,
   "id": "5671e9ad-2b69-441f-8a77-e0c2365c3d8d",
   "metadata": {
    "executionInfo": {
     "elapsed": 23,
     "status": "ok",
     "timestamp": 1648883002642,
     "user": {
      "displayName": "Олег Дмитриевич Сомов",
      "userId": "03877505905935419968"
     },
     "user_tz": -180
    },
    "id": "TugvX-pxzU09"
   },
   "outputs": [],
   "source": [
    "with open(\"cifar-10-batches-py/data_batch_1\", \"rb\") as f:\n",
    "    train_dataset_1 = pickle.load(f, encoding=\"bytes\")"
   ]
  },
  {
   "cell_type": "markdown",
   "id": "d903b788-934a-488a-8ac3-e818f0cad170",
   "metadata": {
    "id": "LORvX4wo3HeX"
   },
   "source": [
    "Датасет содержит следующие ключи:"
   ]
  },
  {
   "cell_type": "code",
   "execution_count": 5,
   "id": "134b6309-41d7-4d4e-bec8-26f4c5886453",
   "metadata": {
    "colab": {
     "base_uri": "https://localhost:8080/"
    },
    "executionInfo": {
     "elapsed": 23,
     "status": "ok",
     "timestamp": 1648883002642,
     "user": {
      "displayName": "Олег Дмитриевич Сомов",
      "userId": "03877505905935419968"
     },
     "user_tz": -180
    },
    "id": "JB1PDjQ820rd",
    "outputId": "5a9b7b6e-b337-4796-9215-4f8c35f0106f"
   },
   "outputs": [
    {
     "name": "stdout",
     "output_type": "stream",
     "text": [
      "-batch_label\n",
      "-labels\n",
      "-data\n",
      "-filenames\n"
     ]
    }
   ],
   "source": [
    "for key in train_dataset_1.keys():\n",
    "    print(f\"-{key.decode('utf-8')}\")"
   ]
  },
  {
   "cell_type": "markdown",
   "id": "9b8ab38c-4df8-4249-9db9-88f7255538ac",
   "metadata": {
    "id": "nbPXqQO03k-p"
   },
   "source": [
    "Ключ `batch_label` нас не интересует, так как содержит только лишь информацию о номере бача"
   ]
  },
  {
   "cell_type": "code",
   "execution_count": 6,
   "id": "315ca12b-5ef3-4822-81ae-5688a9238e69",
   "metadata": {
    "colab": {
     "base_uri": "https://localhost:8080/",
     "height": 35
    },
    "executionInfo": {
     "elapsed": 20,
     "status": "ok",
     "timestamp": 1648883002642,
     "user": {
      "displayName": "Олег Дмитриевич Сомов",
      "userId": "03877505905935419968"
     },
     "user_tz": -180
    },
    "id": "z4gD7ZE23TtO",
    "outputId": "7c116c55-1fff-41cc-8b5e-71530482fe67"
   },
   "outputs": [
    {
     "data": {
      "text/plain": "'training batch 1 of 5'"
     },
     "execution_count": 6,
     "metadata": {},
     "output_type": "execute_result"
    }
   ],
   "source": [
    "train_dataset_1[b'batch_label'].decode('utf-8')"
   ]
  },
  {
   "cell_type": "markdown",
   "id": "250121c5-3efb-4ace-8447-0fffa2bdc999",
   "metadata": {
    "id": "APDSFzsK38xW"
   },
   "source": [
    "Ключ `filenames` в данном случае нас тоже не интересует, так как он содержит названия файлов, которые мы без привлечения языковых моделей использовать не сможем"
   ]
  },
  {
   "cell_type": "code",
   "execution_count": 7,
   "id": "0453bed0-1cc4-4927-b4e8-20fec3cf5af9",
   "metadata": {
    "colab": {
     "base_uri": "https://localhost:8080/"
    },
    "executionInfo": {
     "elapsed": 20,
     "status": "ok",
     "timestamp": 1648883002642,
     "user": {
      "displayName": "Олег Дмитриевич Сомов",
      "userId": "03877505905935419968"
     },
     "user_tz": -180
    },
    "id": "pkeViI4Z377b",
    "outputId": "0414c9f9-e1b9-4d62-e6bf-8ca6f9237570"
   },
   "outputs": [
    {
     "name": "stdout",
     "output_type": "stream",
     "text": [
      "Первые 10 названий:\n",
      "-leptodactylus_pentadactylus_s_000004.png\n",
      "-camion_s_000148.png\n",
      "-tipper_truck_s_001250.png\n",
      "-american_elk_s_001521.png\n",
      "-station_wagon_s_000293.png\n",
      "-coupe_s_001735.png\n",
      "-cassowary_s_001300.png\n",
      "-cow_pony_s_001168.png\n",
      "-sea_boat_s_001584.png\n",
      "-tabby_s_001355.png\n"
     ]
    }
   ],
   "source": [
    "print(\"Первые 10 названий:\")\n",
    "for name in train_dataset_1[b'filenames'][:10]:\n",
    "    print(f\"-{name.decode('utf-8')}\")"
   ]
  },
  {
   "cell_type": "markdown",
   "id": "4f361e80-28d9-4f0c-87f2-b83a1dfc2dff",
   "metadata": {
    "id": "E_ON69UZ5Ond"
   },
   "source": [
    "Остаются два наиболее интересных ключа, это `data` и `labels`.\n",
    "\n",
    "Как нетрудно догадаться, `labels` содержит классы. Выведем первые 10 элементов:"
   ]
  },
  {
   "cell_type": "code",
   "execution_count": 8,
   "id": "8ffdfa21-cd10-4c0f-b92e-60aa2b1f9eb3",
   "metadata": {
    "colab": {
     "base_uri": "https://localhost:8080/"
    },
    "executionInfo": {
     "elapsed": 18,
     "status": "ok",
     "timestamp": 1648883002643,
     "user": {
      "displayName": "Олег Дмитриевич Сомов",
      "userId": "03877505905935419968"
     },
     "user_tz": -180
    },
    "id": "jfrBz2XA3iGe",
    "outputId": "9ec034ee-0b00-4666-af1d-0c1bab89a4c3"
   },
   "outputs": [
    {
     "name": "stdout",
     "output_type": "stream",
     "text": [
      "[6, 9, 9, 4, 1, 1, 2, 7, 8, 3]\n"
     ]
    }
   ],
   "source": [
    "print(train_dataset_1[b'labels'][:10])"
   ]
  },
  {
   "cell_type": "markdown",
   "id": "5f9060d8-74ff-4db6-a98d-93b7b375a59d",
   "metadata": {
    "id": "L9qndsSb6DCJ"
   },
   "source": [
    "Классы представлены числовыми метками. В принципе нам нет необходимости знать соответствие между ними, однако эти данные можно найти в файле `batches.meta`:"
   ]
  },
  {
   "cell_type": "code",
   "execution_count": 9,
   "id": "771c97c7-71b1-43ed-bd8d-1a2a611e51cb",
   "metadata": {
    "colab": {
     "base_uri": "https://localhost:8080/"
    },
    "executionInfo": {
     "elapsed": 15,
     "status": "ok",
     "timestamp": 1648883002643,
     "user": {
      "displayName": "Олег Дмитриевич Сомов",
      "userId": "03877505905935419968"
     },
     "user_tz": -180
    },
    "id": "EvjYQIzo5lCJ",
    "outputId": "2d55d44a-c265-4fdc-ce3c-928f53b962bc"
   },
   "outputs": [
    {
     "name": "stdout",
     "output_type": "stream",
     "text": [
      "0: airplane\n",
      "1: automobile\n",
      "2: bird\n",
      "3: cat\n",
      "4: deer\n",
      "5: dog\n",
      "6: frog\n",
      "7: horse\n",
      "8: ship\n",
      "9: truck\n"
     ]
    }
   ],
   "source": [
    "with open(\"cifar-10-batches-py/batches.meta\", \"rb\") as f:\n",
    "    classes_names = pickle.load(f, encoding=\"bytes\")\n",
    "\n",
    "for ind, name in enumerate(classes_names[b'label_names']):\n",
    "    print(f\"{ind}: {name.decode('utf-8')}\")"
   ]
  },
  {
   "cell_type": "markdown",
   "id": "83c2ffb2-c72a-4487-bcad-475ca2183bed",
   "metadata": {
    "id": "MfoVeTys7bZL"
   },
   "source": [
    "Ключ `data` содержит уже сами числовые данные"
   ]
  },
  {
   "cell_type": "code",
   "execution_count": 10,
   "id": "40634f11-4e37-4e1e-8a57-9d6355516f26",
   "metadata": {
    "colab": {
     "base_uri": "https://localhost:8080/"
    },
    "executionInfo": {
     "elapsed": 13,
     "status": "ok",
     "timestamp": 1648883002643,
     "user": {
      "displayName": "Олег Дмитриевич Сомов",
      "userId": "03877505905935419968"
     },
     "user_tz": -180
    },
    "id": "QCbE-E_Q6fpP",
    "outputId": "9c077497-c606-46e4-c7f5-db5d72c40e96"
   },
   "outputs": [
    {
     "name": "stdout",
     "output_type": "stream",
     "text": [
      "Количество данных: 10000\n",
      "Размер вектора: (3072,)\n"
     ]
    }
   ],
   "source": [
    "print(f\"Количество данных: {len(train_dataset_1[b'data'])}\")\n",
    "print(f\"Размер вектора: {train_dataset_1[b'data'][0].shape}\")"
   ]
  },
  {
   "cell_type": "markdown",
   "id": "d67cf479-3295-4f50-816e-fa388474d5ea",
   "metadata": {
    "id": "sWv6MG1_AUuK"
   },
   "source": [
    "Теперь интересно посмотреть на сбалансированность меток по разбиениям. Для этого загрузим все тестовые разбиения"
   ]
  },
  {
   "cell_type": "code",
   "execution_count": 11,
   "id": "cc0ff0ca-e36e-45e1-9be1-057a3b3c6a31",
   "metadata": {
    "executionInfo": {
     "elapsed": 4,
     "status": "ok",
     "timestamp": 1648883003000,
     "user": {
      "displayName": "Олег Дмитриевич Сомов",
      "userId": "03877505905935419968"
     },
     "user_tz": -180
    },
    "id": "Tema94CMAfi3"
   },
   "outputs": [],
   "source": [
    "with open(\"cifar-10-batches-py/data_batch_2\", \"rb\") as f:\n",
    "    train_dataset_2 = pickle.load(f, encoding=\"bytes\")\n",
    "\n",
    "with open(\"cifar-10-batches-py/data_batch_3\", \"rb\") as f:\n",
    "    train_dataset_3 = pickle.load(f, encoding=\"bytes\")\n",
    "\n",
    "with open(\"cifar-10-batches-py/data_batch_4\", \"rb\") as f:\n",
    "    train_dataset_4 = pickle.load(f, encoding=\"bytes\")\n",
    "\n",
    "with open(\"cifar-10-batches-py/data_batch_5\", \"rb\") as f:\n",
    "    train_dataset_5 = pickle.load(f, encoding=\"bytes\")"
   ]
  },
  {
   "cell_type": "markdown",
   "id": "7e87562b-2f03-4287-84c5-149a17389985",
   "metadata": {
    "id": "xOf4mXaCFUNi"
   },
   "source": [
    "И посчитаем скаолько раз каждая метка встречается в каждом датасете"
   ]
  },
  {
   "cell_type": "code",
   "execution_count": 12,
   "id": "ee5feed0-3939-42fa-9a76-405ed4e67987",
   "metadata": {
    "colab": {
     "base_uri": "https://localhost:8080/"
    },
    "executionInfo": {
     "elapsed": 3,
     "status": "ok",
     "timestamp": 1648883003000,
     "user": {
      "displayName": "Олег Дмитриевич Сомов",
      "userId": "03877505905935419968"
     },
     "user_tz": -180
    },
    "id": "3fG84kSqA6jX",
    "outputId": "8dd1577a-603d-45a8-d70e-4e9d0a3f73c7"
   },
   "outputs": [
    {
     "name": "stdout",
     "output_type": "stream",
     "text": [
      "|=====|======|======|======|======|======|======|\n",
      "|Label|Data 1|Data 2|Data 3|Data 4|Data 5| Sum  |\n",
      "|=====|======|======|======|======|======|======|\n",
      "|  0  | 1005 | 984  | 994  | 1003 | 1014 | 5000 |\n",
      "|  1  | 974  | 1007 | 1042 | 963  | 1014 | 5000 |\n",
      "|  2  | 1032 | 1010 | 965  | 1041 | 952  | 5000 |\n",
      "|  3  | 1016 | 995  | 997  | 976  | 1016 | 5000 |\n",
      "|  4  | 999  | 1010 | 990  | 1004 | 997  | 5000 |\n",
      "|  5  | 937  | 988  | 1029 | 1021 | 1025 | 5000 |\n",
      "|  6  | 1030 | 1008 | 978  | 1004 | 980  | 5000 |\n",
      "|  7  | 1001 | 1026 | 1015 | 981  | 977  | 5000 |\n",
      "|  8  | 1025 | 987  | 961  | 1024 | 1003 | 5000 |\n",
      "|  9  | 981  | 985  | 1029 | 983  | 1022 | 5000 |\n",
      "|=====|======|======|======|======|======|======|\n"
     ]
    }
   ],
   "source": [
    "datasets = [train_dataset_1, train_dataset_2, train_dataset_3, \n",
    "            train_dataset_4, train_dataset_5]\n",
    "\n",
    "labels = list(range(10))\n",
    "\n",
    "print(\"|=====|{}|{}|{}|{}|{}|{}|\".format(\n",
    "    \"=\" * 6, \"=\" * 6, \"=\" * 6, \"=\" * 6, \"=\" * 6, \"=\" * 6))\n",
    "print(\"|Label|{0:^{1}}|{2:^{3}}|{4:^{5}}|{6:^{7}}|{8:^{9}}|{10:^{11}}|\".format(\n",
    "    \"Data 1\", 6, \"Data 2\", 6, \"Data 3\", 6, \"Data 4\", 6, \"Data 5\", 6, \"Sum\", 6))\n",
    "print(\"|=====|{}|{}|{}|{}|{}|{}|\".format(\n",
    "    \"=\" * 6, \"=\" * 6, \"=\" * 6, \"=\" * 6, \"=\" * 6, \"=\" * 6))\n",
    "\n",
    "for label in labels:\n",
    "    print(\"|{0:^{1}}|\".format(label, 5), end='')\n",
    "    label_num = 0\n",
    "    for dataset in datasets:\n",
    "        print(\"{0:^{1}}|\".format(dataset[b'labels'].count(label), 6), end='')\n",
    "        label_num += dataset[b'labels'].count(label)\n",
    "    print(\"{0:^{1}}|\".format(label_num, 6))\n",
    "\n",
    "print(\"|=====|{}|{}|{}|{}|{}|{}|\".format(\n",
    "    \"=\" * 6, \"=\" * 6, \"=\" * 6, \"=\" * 6, \"=\" * 6, \"=\" * 6))"
   ]
  },
  {
   "cell_type": "markdown",
   "id": "2ba4857b-550b-4e50-9499-fd2156cf75e4",
   "metadata": {
    "id": "qn3rD5jXI1NE"
   },
   "source": [
    "Как видим, данные не сбалансированы по разбиениям, поэтому объединим все в один датасет и разобьем это на два датасета, тренировочный и валидационный, при этом сразу поделим значения каждого вектора на 256, чтобы иметь интенсивность в относительных единицах (хотя максимум на 255)"
   ]
  },
  {
   "cell_type": "code",
   "execution_count": 13,
   "id": "38abea86-723a-4b39-b70a-6290cb37e126",
   "metadata": {
    "executionInfo": {
     "elapsed": 1598,
     "status": "ok",
     "timestamp": 1648883004597,
     "user": {
      "displayName": "Олег Дмитриевич Сомов",
      "userId": "03877505905935419968"
     },
     "user_tz": -180
    },
    "id": "XhbyPu0DJXnA"
   },
   "outputs": [],
   "source": [
    "train_dataset = []\n",
    "\n",
    "for dataset in datasets:\n",
    "    for vec, label in zip(dataset[b'data'], dataset[b'labels']):\n",
    "        train_dataset.append((vec / 256, label))"
   ]
  },
  {
   "cell_type": "markdown",
   "id": "40d697ec-4d30-4178-a653-bb55019ad08b",
   "metadata": {
    "id": "L-HusJA0NnTl"
   },
   "source": [
    "На валидационную выборку оставим 10000 элементов, по 1000 примеров из каждого класса, выбранных случайно"
   ]
  },
  {
   "cell_type": "code",
   "execution_count": 14,
   "id": "43d3f9c2-7e9d-463d-b120-6d05f879c285",
   "metadata": {
    "executionInfo": {
     "elapsed": 2,
     "status": "ok",
     "timestamp": 1648883004597,
     "user": {
      "displayName": "Олег Дмитриевич Сомов",
      "userId": "03877505905935419968"
     },
     "user_tz": -180
    },
    "id": "-KKnNko_M5CK"
   },
   "outputs": [],
   "source": [
    "np.random.seed(42)\n",
    "np.random.shuffle(train_dataset)\n",
    "\n",
    "train_data = []\n",
    "valid_data = []\n",
    "\n",
    "cnt = {ind: 0 for ind in range(10)}\n",
    "\n",
    "for vec, label in train_dataset:\n",
    "    if cnt[label] < 1000:\n",
    "        cnt[label] += 1\n",
    "        valid_data.append((vec, label))\n",
    "    else:\n",
    "        train_data.append((vec, label))"
   ]
  },
  {
   "cell_type": "markdown",
   "id": "61897c8c-b612-4ada-bca5-0ca058c0e3f1",
   "metadata": {
    "id": "1hayc1VwP_QI"
   },
   "source": [
    "Подготовим еще тестовый датасет"
   ]
  },
  {
   "cell_type": "code",
   "execution_count": 15,
   "id": "1897ad36-ace6-4c43-ba44-95fa5b9f0e4c",
   "metadata": {
    "executionInfo": {
     "elapsed": 274,
     "status": "ok",
     "timestamp": 1648883004870,
     "user": {
      "displayName": "Олег Дмитриевич Сомов",
      "userId": "03877505905935419968"
     },
     "user_tz": -180
    },
    "id": "CkSriEjbQCWc"
   },
   "outputs": [],
   "source": [
    "with open(\"cifar-10-batches-py/test_batch\", \"rb\") as f:\n",
    "    test_dataset = pickle.load(f, encoding=\"bytes\")\n",
    "\n",
    "test_data = []\n",
    "for vec, label in zip(test_dataset[b'data'], test_dataset[b'labels']):\n",
    "    test_data.append((vec / 256, label))"
   ]
  },
  {
   "cell_type": "markdown",
   "id": "c4db2a03-dc66-4747-92d1-fe0f3eeec719",
   "metadata": {
    "id": "VKabQkB7Qa4m"
   },
   "source": [
    "Посмотрим на статистики"
   ]
  },
  {
   "cell_type": "code",
   "execution_count": 16,
   "id": "8cecba53-db34-4ee2-a488-cd1bfff08834",
   "metadata": {
    "colab": {
     "base_uri": "https://localhost:8080/"
    },
    "executionInfo": {
     "elapsed": 278,
     "status": "ok",
     "timestamp": 1648883005147,
     "user": {
      "displayName": "Олег Дмитриевич Сомов",
      "userId": "03877505905935419968"
     },
     "user_tz": -180
    },
    "id": "ZL8rU-rSOmlb",
    "outputId": "efab952d-056d-49e1-994c-be7e9641edac"
   },
   "outputs": [
    {
     "name": "stdout",
     "output_type": "stream",
     "text": [
      "|=====|======|======|======|======|\n",
      "|Label|Train |Valid | Test | Sum  |\n",
      "|=====|======|======|======|======|\n",
      "|  0  | 4000 | 1000 | 1000 | 6000 |\n",
      "|  1  | 4000 | 1000 | 1000 | 6000 |\n",
      "|  2  | 4000 | 1000 | 1000 | 6000 |\n",
      "|  3  | 4000 | 1000 | 1000 | 6000 |\n",
      "|  4  | 4000 | 1000 | 1000 | 6000 |\n",
      "|  5  | 4000 | 1000 | 1000 | 6000 |\n",
      "|  6  | 4000 | 1000 | 1000 | 6000 |\n",
      "|  7  | 4000 | 1000 | 1000 | 6000 |\n",
      "|  8  | 4000 | 1000 | 1000 | 6000 |\n",
      "|  9  | 4000 | 1000 | 1000 | 6000 |\n",
      "|=====|======|======|======|======|\n"
     ]
    }
   ],
   "source": [
    "print(\"|=====|{}|{}|{}|{}|\".format(\"=\" * 6, \"=\" * 6, \"=\" * 6, \"=\" * 6))\n",
    "print(\"|Label|{0:^{1}}|{2:^{3}}|{4:^{5}}|{6:^{7}}|\".format(\n",
    "    \"Train\", 6, \"Valid\", 6, \"Test\", 6, \"Sum\", 6))\n",
    "print(\"|=====|{}|{}|{}|{}|\".format(\"=\" * 6, \"=\" * 6, \"=\" * 6, \"=\" * 6))\n",
    "\n",
    "labels = list(range(10))\n",
    "for label in labels:\n",
    "    print(\"|{0:^{1}}|\".format(label, 5), end='')\n",
    "    label_num = 0\n",
    "    for dataset in (train_data, valid_data, test_data):\n",
    "        labels_data = [item[1] for item in dataset]\n",
    "        print(\"{0:^{1}}|\".format(labels_data.count(label), 6), end='')\n",
    "        label_num += labels_data.count(label)\n",
    "    print(\"{0:^{1}}|\".format(label_num, 6))\n",
    "\n",
    "print(\"|=====|{}|{}|{}|{}|\".format(\"=\" * 6, \"=\" * 6, \"=\" * 6, \"=\" * 6))"
   ]
  },
  {
   "cell_type": "code",
   "execution_count": 16,
   "id": "ad378160-c2fd-4ba3-81b5-c38b186674e5",
   "metadata": {},
   "outputs": [],
   "source": []
  },
  {
   "cell_type": "markdown",
   "id": "9b971799-2b91-4709-98de-1927fe7515e8",
   "metadata": {
    "id": "Y2RjpwgTirLS"
   },
   "source": [
    "## Обучение"
   ]
  },
  {
   "cell_type": "markdown",
   "id": "8572a9bf-42cb-4a3b-b58e-cc78b64125b7",
   "metadata": {
    "id": "FpnHIkYYuf7-"
   },
   "source": [
    "Перед обучением отнормируем все данные"
   ]
  },
  {
   "cell_type": "code",
   "execution_count": 17,
   "id": "e6a1bbe1-a69e-4a46-b6ef-a4a6a3de6026",
   "metadata": {
    "executionInfo": {
     "elapsed": 3076,
     "status": "ok",
     "timestamp": 1648883008897,
     "user": {
      "displayName": "Олег Дмитриевич Сомов",
      "userId": "03877505905935419968"
     },
     "user_tz": -180
    },
    "id": "s99SRxTXukcN"
   },
   "outputs": [],
   "source": [
    "train_matrix = np.array([item[0] for item in train_data])\n",
    "D = np.var(train_matrix, axis=0)\n",
    "E = np.mean(train_matrix, axis=0)\n",
    "\n",
    "for ind in range(len(train_data)):\n",
    "    train_data[ind] = (train_data[ind][0] - E, train_data[ind][1])\n",
    "    train_data[ind] = (train_data[ind][0] / np.sqrt(D), train_data[ind][1])\n",
    "\n",
    "for ind in range(len(valid_data)):\n",
    "    valid_data[ind] = (valid_data[ind][0] - E, valid_data[ind][1])\n",
    "    valid_data[ind] = (valid_data[ind][0] / np.sqrt(D), valid_data[ind][1])\n",
    "\n",
    "for ind in range(len(test_data)):\n",
    "    test_data[ind] = (test_data[ind][0] - E, test_data[ind][1])\n",
    "    test_data[ind] = (test_data[ind][0] / np.sqrt(D), test_data[ind][1])"
   ]
  },
  {
   "cell_type": "markdown",
   "id": "646b5a98-4127-46ad-b519-3cb449fcf3d0",
   "metadata": {
    "id": "Q8G7aHQui10I"
   },
   "source": [
    "Возьмем небольшую сеть и посмотрим на ней качество, будем использовать далее его в качестве референса"
   ]
  },
  {
   "cell_type": "code",
   "execution_count": 21,
   "id": "83c15d6a-b99b-4c95-9e53-2f99d7870a76",
   "metadata": {
    "colab": {
     "base_uri": "https://localhost:8080/"
    },
    "executionInfo": {
     "elapsed": 393,
     "status": "ok",
     "timestamp": 1648883009289,
     "user": {
      "displayName": "Олег Дмитриевич Сомов",
      "userId": "03877505905935419968"
     },
     "user_tz": -180
    },
    "id": "WVSt9QNffX2W",
    "outputId": "84c98ac3-4411-4e63-a227-c8e6084c98b0"
   },
   "outputs": [
    {
     "data": {
      "text/plain": "Sequential(\n\tLinear(3072, 768, bias=True),\n\tReLU(),\n\tLinear(768, 128, bias=True),\n\tReLU(),\n\tLinear(128, 10, bias=True)\n)"
     },
     "execution_count": 21,
     "metadata": {},
     "output_type": "execute_result"
    }
   ],
   "source": [
    "np.random.seed(42)\n",
    "model = Sequential(\n",
    "    Linear(3072, 768),\n",
    "    ReLU(),\n",
    "    Linear(768, 128),\n",
    "    ReLU(),\n",
    "    Linear(128, 10)\n",
    ")\n",
    "model"
   ]
  },
  {
   "cell_type": "markdown",
   "id": "3ffb6f47-49e5-4651-9177-2c0f611116f2",
   "metadata": {
    "id": "H6TgKN0RjjT8"
   },
   "source": [
    "Запустим обучение, чтобы проверить, что модель хотя бы как-то работает. Запустим на 10 эпохах."
   ]
  },
  {
   "cell_type": "code",
   "execution_count": null,
   "id": "fa8a838d-8360-4f4a-a64a-c3354ed3ff5b",
   "metadata": {
    "colab": {
     "base_uri": "https://localhost:8080/"
    },
    "executionInfo": {
     "elapsed": 321901,
     "status": "ok",
     "timestamp": 1648883331188,
     "user": {
      "displayName": "Олег Дмитриевич Сомов",
      "userId": "03877505905935419968"
     },
     "user_tz": -180
    },
    "id": "vP9CH_QKjfgb",
    "outputId": "d5ab0a54-a06d-4076-c02e-ad28f056866f",
    "pycharm": {
     "is_executing": true
    }
   },
   "outputs": [
    {
     "name": "stdout",
     "output_type": "stream",
     "text": [
      "|Epoch|Train loss|Train acc|Valid loss|Valid acc|  Grad/W  | Time, s  | Total, s |\n",
      "|=====|==========|=========|==========|=========|==========|==========|==========|\n",
      "| 1/10|  0.9123  | 0.1155  |  0.9091  | 0.1151  | 0.066429 |   12.9   |   12.9   |\n",
      "| 2/10|  0.9048  | 0.1260  |  0.9040  | 0.1241  | 0.025216 |   12.3   |   25.3   |\n",
      "| 3/10|  0.9027  | 0.1313  |  0.9024  | 0.1274  | 0.013812 |   12.5   |   37.7   |\n",
      "| 4/10|  0.9018  | 0.1348  |  0.9016  | 0.1301  | 0.009401 |   13.1   |   50.8   |\n",
      "| 5/10|  0.9011  | 0.1369  |  0.9012  | 0.1323  | 0.006846 |   13.5   |   64.3   |\n",
      "| 6/10|  0.9011  | 0.1386  |  0.9009  | 0.1336  | 0.005783 |   13.0   |   77.3   |\n",
      "Epoch progress: [>                                                 ] 0/4 0s>0s"
     ]
    }
   ],
   "source": [
    "train_loss_history, valid_loss_history, \\\n",
    "train_acc_history, valid_acc_history = train(\n",
    "    dataset=train_data, \n",
    "    model=model, \n",
    "    epochs=10,\n",
    "    lr=0.001,\n",
    "    valid_dataset=valid_data,\n",
    "    batch_size=10000)"
   ]
  },
  {
   "cell_type": "code",
   "execution_count": null,
   "id": "23613b08-326f-4cc2-8e01-7b6721acd519",
   "metadata": {},
   "outputs": [],
   "source": [
    "viz_utils.plot_learning_curves(train_loss_history, valid_loss_history,\n",
    "                                train_acc_history, valid_acc_history)"
   ]
  },
  {
   "cell_type": "code",
   "execution_count": null,
   "id": "63b7209c-875e-4a6a-9814-8d91b0e05c85",
   "metadata": {},
   "outputs": [],
   "source": [
    "test_dataloader = Dataloader(test_data, len(test_data), False)\n",
    "model.eval()\n",
    "for vecs, labels in test_dataloader:\n",
    "    out = model.forward(vecs)\n",
    "\n",
    "    loss = loss_functions.hinge_loss.hinge_loss(out, labels)\n",
    "    test_loss = loss.item()\n",
    "\n",
    "    pred_labels = np.argmax(out.array, axis=-1)\n",
    "    test_acc = np.sum(pred_labels == labels) / len(labels)\n",
    "\n",
    "print(f\"Ошибка на тесте: {test_loss:.4f}\")\n",
    "print(f\"Точность на тесте: {test_acc:.4f}\")"
   ]
  },
  {
   "cell_type": "code",
   "execution_count": null,
   "id": "2304e456-65c9-4a21-998e-4aa67b766e55",
   "metadata": {},
   "outputs": [],
   "source": [
    "print(classification_report(labels, pred_labels))"
   ]
  },
  {
   "cell_type": "code",
   "execution_count": null,
   "id": "b0cd6734-25c9-4175-a22f-9ee7c5502155",
   "metadata": {},
   "outputs": [],
   "source": []
  },
  {
   "cell_type": "code",
   "execution_count": null,
   "id": "a422c50a-24ce-4d91-a067-7c2110c75922",
   "metadata": {},
   "outputs": [],
   "source": []
  }
 ],
 "metadata": {
  "kernelspec": {
   "display_name": "Python 3 (ipykernel)",
   "language": "python",
   "name": "python3"
  },
  "language_info": {
   "codemirror_mode": {
    "name": "ipython",
    "version": 3
   },
   "file_extension": ".py",
   "mimetype": "text/x-python",
   "name": "python",
   "nbconvert_exporter": "python",
   "pygments_lexer": "ipython3",
   "version": "3.9.7"
  }
 },
 "nbformat": 4,
 "nbformat_minor": 5
}
